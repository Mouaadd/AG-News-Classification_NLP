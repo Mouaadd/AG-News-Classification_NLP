{
  "cells": [
    {
      "cell_type": "markdown",
      "source": [
        "**Natural Language Processing (NLP) Project**\n",
        "\n",
        "**Option S2D** - **Ecole Centrale Casablanca** **March 24**\n",
        "\n",
        "\n",
        "> Hiba CHARKANI EL HASSANI\n",
        "\n",
        "> Badreddine BELACHKAR\n",
        "\n",
        "> Mouad KHAZNAOUI\n",
        "\n",
        "\n",
        "\n",
        "\n"
      ],
      "metadata": {
        "id": "9foBPUU4R8ce"
      }
    },
    {
      "cell_type": "markdown",
      "source": [
        "# Ce notebook détaille l'implémentation de la classification de texte en utilisant l'ensemble de données AG News et un modèle de classification BERT.\n",
        "\n",
        "## Préparation des dépendances\n",
        "\n",
        "Nous commençons par installer les dépendances nécessaires, notamment le package `portalocker` pour la gestion des verrous de fichiers et le package `tokenizers` pour le traitement des tokens."
      ],
      "metadata": {
        "id": "-0qsZA9qPnCc"
      }
    },
    {
      "cell_type": "code",
      "execution_count": 1,
      "metadata": {
        "id": "JXukEI5q_Xbj"
      },
      "outputs": [],
      "source": [
        "!pip install portalocker>=2.0.0"
      ]
    },
    {
      "cell_type": "code",
      "execution_count": 3,
      "metadata": {
        "colab": {
          "base_uri": "https://localhost:8080/"
        },
        "id": "qqMTFdrdLpgt",
        "outputId": "cd0f2f0a-e6d5-4851-e93a-32877332bada"
      },
      "outputs": [
        {
          "output_type": "stream",
          "name": "stdout",
          "text": [
            "Requirement already satisfied: tokenizers in /usr/local/lib/python3.10/dist-packages (0.15.2)\n",
            "Requirement already satisfied: huggingface_hub<1.0,>=0.16.4 in /usr/local/lib/python3.10/dist-packages (from tokenizers) (0.20.3)\n",
            "Requirement already satisfied: filelock in /usr/local/lib/python3.10/dist-packages (from huggingface_hub<1.0,>=0.16.4->tokenizers) (3.13.1)\n",
            "Requirement already satisfied: fsspec>=2023.5.0 in /usr/local/lib/python3.10/dist-packages (from huggingface_hub<1.0,>=0.16.4->tokenizers) (2023.6.0)\n",
            "Requirement already satisfied: requests in /usr/local/lib/python3.10/dist-packages (from huggingface_hub<1.0,>=0.16.4->tokenizers) (2.31.0)\n",
            "Requirement already satisfied: tqdm>=4.42.1 in /usr/local/lib/python3.10/dist-packages (from huggingface_hub<1.0,>=0.16.4->tokenizers) (4.66.2)\n",
            "Requirement already satisfied: pyyaml>=5.1 in /usr/local/lib/python3.10/dist-packages (from huggingface_hub<1.0,>=0.16.4->tokenizers) (6.0.1)\n",
            "Requirement already satisfied: typing-extensions>=3.7.4.3 in /usr/local/lib/python3.10/dist-packages (from huggingface_hub<1.0,>=0.16.4->tokenizers) (4.10.0)\n",
            "Requirement already satisfied: packaging>=20.9 in /usr/local/lib/python3.10/dist-packages (from huggingface_hub<1.0,>=0.16.4->tokenizers) (23.2)\n",
            "Requirement already satisfied: charset-normalizer<4,>=2 in /usr/local/lib/python3.10/dist-packages (from requests->huggingface_hub<1.0,>=0.16.4->tokenizers) (3.3.2)\n",
            "Requirement already satisfied: idna<4,>=2.5 in /usr/local/lib/python3.10/dist-packages (from requests->huggingface_hub<1.0,>=0.16.4->tokenizers) (3.6)\n",
            "Requirement already satisfied: urllib3<3,>=1.21.1 in /usr/local/lib/python3.10/dist-packages (from requests->huggingface_hub<1.0,>=0.16.4->tokenizers) (2.0.7)\n",
            "Requirement already satisfied: certifi>=2017.4.17 in /usr/local/lib/python3.10/dist-packages (from requests->huggingface_hub<1.0,>=0.16.4->tokenizers) (2024.2.2)\n"
          ]
        }
      ],
      "source": [
        "!pip install tokenizers"
      ]
    },
    {
      "cell_type": "markdown",
      "source": [
        "# Chargement des données\n",
        "\n",
        "Ensuite, nous utilisons le module `torchtext.datasets` pour charger l'ensemble de données AG News. Nous créons un itérateur pour parcourir les exemples d'entraînement et récupérer le premier exemple pour l'inspection."
      ],
      "metadata": {
        "id": "Ugmc-pvoP8Dp"
      }
    },
    {
      "cell_type": "code",
      "execution_count": 2,
      "metadata": {
        "colab": {
          "base_uri": "https://localhost:8080/"
        },
        "id": "WCgLP-ru_Y6f",
        "outputId": "17e20568-cdcd-4dc3-b8cc-9a165cbfb24d"
      },
      "outputs": [
        {
          "output_type": "stream",
          "name": "stdout",
          "text": [
            "(3, \"Wall St. Bears Claw Back Into the Black (Reuters) Reuters - Short-sellers, Wall Street's dwindling\\\\band of ultra-cynics, are seeing green again.\")\n"
          ]
        }
      ],
      "source": [
        "from torchtext.datasets import AG_NEWS\n",
        "\n",
        "# Crée un itérateur\n",
        "train_iter = iter(AG_NEWS(split='train'))\n",
        "\n",
        "# Récupère le premier exemple\n",
        "first_example = next(train_iter)\n",
        "\n",
        "print(first_example)"
      ]
    },
    {
      "cell_type": "markdown",
      "source": [
        "#Exploration de l'ensemble de données\n",
        "\n",
        "Nous visualisons ensuite la distribution des catégories dans l'ensemble de données en utilisant Matplotlib, en prenant les 1000 premiers exemples pour des raisons de performance. Nous calculons également la longueur moyenne des textes et affichons un exemple de texte pour chaque catégorie."
      ],
      "metadata": {
        "id": "JxAjVGE1QQQN"
      }
    },
    {
      "cell_type": "code",
      "source": [
        "import matplotlib.pyplot as plt\n",
        "from collections import Counter\n",
        "\n",
        "\n",
        "# Récupère les exemples\n",
        "examples = []\n",
        "for example in train_iter:\n",
        "    examples.append(example)\n",
        "    if len(examples) >= 1000:  # Prend les 1000 premiers exemples pour des raisons de performance\n",
        "        break\n",
        "\n",
        "# Distribution des catégories\n",
        "categories = [example[0] for example in examples]\n",
        "category_counts = Counter(categories)\n",
        "plt.bar(category_counts.keys(), category_counts.values())\n",
        "plt.title('Distribution des catégories')\n",
        "plt.xlabel('Catégorie')\n",
        "plt.ylabel(\"Nombre d'exemples\")\n",
        "plt.show()\n",
        "\n",
        "# Longueur moyenne des textes\n",
        "text_lengths = [len(example[1].split()) for example in examples]\n",
        "average_length = sum(text_lengths) / len(text_lengths)\n",
        "print(f\"Longueur moyenne des textes : {average_length} mots\")\n",
        "\n",
        "# Exemple de texte pour chaque catégorie\n",
        "example_texts = {}\n",
        "for example in examples:\n",
        "    category = example[0]\n",
        "    if category not in example_texts:\n",
        "        example_texts[category] = example[1]\n",
        "        print(f\"Exemple de texte pour la catégorie {category}:\")\n",
        "        print(example[1])\n",
        "        print()\n",
        "\n",
        "# Catégorie avec le plus grand nombre d'exemples\n",
        "most_common_category = category_counts.most_common(1)[0][0]\n",
        "print(f\"Catégorie avec le plus grand nombre d'exemples : {most_common_category}\")"
      ],
      "metadata": {
        "colab": {
          "base_uri": "https://localhost:8080/",
          "height": 736
        },
        "id": "gW5-wExAKd4Q",
        "outputId": "8892c4c0-9e85-4ff1-89fa-066696df048c"
      },
      "execution_count": 7,
      "outputs": [
        {
          "output_type": "display_data",
          "data": {
            "text/plain": [
              "<Figure size 640x480 with 1 Axes>"
            ],
            "image/png": "[encoded data removed]"
          },
          "metadata": {}
        },
        {
          "output_type": "stream",
          "name": "stdout",
          "text": [
            "Longueur moyenne des textes : 39.905 mots\n",
            "Exemple de texte pour la catégorie 3:\n",
            "Wall St. Bears Claw Back Into the Black (Reuters) Reuters - Short-sellers, Wall Street's dwindling\\band of ultra-cynics, are seeing green again.\n",
            "\n",
            "Exemple de texte pour la catégorie 4:\n",
            "'Madden,' 'ESPN' Football Score in Different Ways (Reuters) Reuters - Was absenteeism a little high\\on Tuesday among the guys at the office? EA Sports would like\\to think it was because \"Madden NFL 2005\" came out that day,\\and some fans of the football simulation are rabid enough to\\take a sick day to play it.\n",
            "\n",
            "Exemple de texte pour la catégorie 2:\n",
            "Phelps, Thorpe Advance in 200 Freestyle (AP) AP - Michael Phelps took care of qualifying for the Olympic 200-meter freestyle semifinals Sunday, and then found out he had been added to the American team for the evening's 400 freestyle relay final. Phelps' rivals Ian Thorpe and Pieter van den Hoogenband and teammate Klete Keller were faster than the teenager in the 200 free preliminaries.\n",
            "\n",
            "Exemple de texte pour la catégorie 1:\n",
            "Venezuelans Vote Early in Referendum on Chavez Rule (Reuters) Reuters - Venezuelans turned out early\\and in large numbers on Sunday to vote in a historic referendum\\that will either remove left-wing President Hugo Chavez from\\office or give him a new mandate to govern for the next two\\years.\n",
            "\n",
            "Catégorie avec le plus grand nombre d'exemples : 4\n"
          ]
        }
      ]
    },
    {
      "cell_type": "markdown",
      "source": [
        "# Tokenization et construction du vocabulaire\n",
        "\n",
        "Utilisant le tokenizer 'basic_english' de torchtext, nous initialisons un tokenizer et construisons un vocabulaire à partir de l'ensemble de données d'entraînement. Nous définissons une fonction génératrice pour parcourir les exemples, tokeniser le texte et construire le vocabulaire.\n",
        "\n",
        "# Modélisation avec un réseau BERT-like\n",
        "\n",
        "Nous définissons ensuite un modèle de classification de texte BERT-like en utilisant des couches d'attention auto-attentionnelles, des couches feedforward et des connexions résiduelles."
      ],
      "metadata": {
        "id": "k4NIyMkvQnwF"
      }
    },
    {
      "cell_type": "code",
      "execution_count": 4,
      "metadata": {
        "id": "zqy4mgRBLpgu"
      },
      "outputs": [],
      "source": [
        "import torch\n",
        "from torch.utils.data import DataLoader\n",
        "from torchtext.data.utils import get_tokenizer\n",
        "from torchtext.vocab import build_vocab_from_iterator\n",
        "from torch import nn\n",
        "import torch.optim as optim\n",
        "\n",
        "# Détection de la présence d'un GPU et sélection si disponible pour les calculs, sinon utilisation du CPU.\n",
        "device = torch.device(\"cuda\" if torch.cuda.is_available() else \"cpu\")\n",
        "\n",
        "# Chargement des ensembles de données d'entraînement et de test AG News.\n",
        "train_iter, test_iter = AG_NEWS()\n",
        "\n",
        "# Initialisation d'un tokenizer compatible avec BERT.\n",
        "tokenizer = get_tokenizer('basic_english')\n",
        "\n",
        "# Définition d'une fonction génératrice qui parcourt l'ensemble de données et tokenise le texte.\n",
        "def yield_tokens(data_iter):\n",
        "    for _, text in data_iter:\n",
        "        yield tokenizer(text)\n",
        "\n",
        "# Construction du vocabulaire à partir de l'itérateur de tokens avec un token spécial \"<unk>\".\n",
        "vocab = build_vocab_from_iterator(yield_tokens(train_iter), specials=[\"<unk>\"])\n",
        "vocab.set_default_index(vocab[\"<unk>\"])\n",
        "\n",
        "# Définition d'un modèle BERT-like pour la classification de texte.\n",
        "class SelfAttention(nn.Module):\n",
        "    def __init__(self, embed_dim, num_heads):\n",
        "        super(SelfAttention, self).__init__()\n",
        "        self.embed_dim = embed_dim\n",
        "        self.num_heads = num_heads\n",
        "        self.head_dim = embed_dim // num_heads\n",
        "\n",
        "        assert (\n",
        "            self.head_dim * num_heads == embed_dim\n",
        "        ), \"La dimension de l'embedding doit être divisible par le nombre de têtes.\"\n",
        "\n",
        "        self.query = nn.Linear(embed_dim, embed_dim)\n",
        "        self.key = nn.Linear(embed_dim, embed_dim)\n",
        "        self.value = nn.Linear(embed_dim, embed_dim)\n",
        "        self.fc_out = nn.Linear(embed_dim, embed_dim)\n",
        "\n",
        "    def forward(self, query, key, value):\n",
        "        N = query.shape[0]\n",
        "\n",
        "        query = self.query(query)\n",
        "        key = self.key(key)\n",
        "        value = self.value(value)\n",
        "\n",
        "        query = query.view(N, -1, self.num_heads, self.head_dim)\n",
        "        key = key.view(N, -1, self.num_heads, self.head_dim)\n",
        "        value = value.view(N, -1, self.num_heads, self.head_dim)\n",
        "\n",
        "        query = query.permute(0, 2, 1, 3)\n",
        "        key = key.permute(0, 2, 1, 3)\n",
        "        value = value.permute(0, 2, 1, 3)\n",
        "\n",
        "        attention_scores = torch.matmul(query, key.permute(0, 1, 3, 2)) / torch.sqrt(\n",
        "            torch.tensor(self.head_dim, dtype=torch.float32)\n",
        "        )\n",
        "\n",
        "        attention_probs = torch.softmax(attention_scores, dim=-1)\n",
        "\n",
        "        attention_probs_dropout = nn.Dropout(p=0.1)(attention_probs)\n",
        "\n",
        "        output = torch.matmul(attention_probs_dropout, value)\n",
        "\n",
        "        output = output.permute(0, 2, 1, 3).contiguous()\n",
        "        output = output.view(N, -1, self.embed_dim)\n",
        "\n",
        "        output = self.fc_out(output)\n",
        "\n",
        "        return output\n",
        "\n",
        "class FeedForward(nn.Module):\n",
        "    def __init__(self, embed_dim, ff_hidden_size):\n",
        "        super(FeedForward, self).__init__()\n",
        "        self.fc1 = nn.Linear(embed_dim, ff_hidden_size)\n",
        "        self.fc2 = nn.Linear(ff_hidden_size, embed_dim)\n",
        "\n",
        "    def forward(self, x):\n",
        "        x = torch.relu(self.fc1(x))\n",
        "        x = self.fc2(x)\n",
        "        return x\n",
        "\n",
        "class BERTLayer(nn.Module):\n",
        "    def __init__(self, embed_dim, num_heads, ff_hidden_size):\n",
        "        super(BERTLayer, self).__init__()\n",
        "        self.attention = SelfAttention(embed_dim, num_heads)\n",
        "        self.feedforward = FeedForward(embed_dim, ff_hidden_size)\n",
        "\n",
        "    def forward(self, x):\n",
        "        attention_output = self.attention(x, x, x)\n",
        "        feedforward_output = self.feedforward(attention_output)\n",
        "        return feedforward_output + x  # Connexion résiduelle\n",
        "\n",
        "class BERTClassifier(nn.Module):\n",
        "    def __init__(self, vocab_size, embed_dim, num_heads, ff_hidden_size, num_layers, num_classes):\n",
        "        super(BERTClassifier, self).__init__()\n",
        "        self.embedding = nn.Embedding(vocab_size, embed_dim)\n",
        "        self.layers = nn.ModuleList([BERTLayer(embed_dim, num_heads, ff_hidden_size) for _ in range(num_layers)])\n",
        "        self.fc = nn.Linear(embed_dim, num_classes)\n",
        "\n",
        "    def forward(self, x):\n",
        "        embedded = self.embedding(x)\n",
        "        for layer in self.layers:\n",
        "            embedded = layer(embedded)\n",
        "        pooled = embedded.mean(1)  # Pooling moyen sur la dimension de la séquence\n",
        "        output = self.fc(pooled)\n",
        "        return output\n",
        "\n",
        "# Initialisation des paramètres du modèle.\n",
        "vocab_size = len(vocab)\n",
        "embed_dim = 64\n",
        "num_heads = 4\n",
        "ff_hidden_size = 128\n",
        "num_layers = 3\n",
        "num_classes = 4  # Les catégories sont World, Sports, Business, Science/Technology\n",
        "\n",
        "# Création d'une instance du modèle BERTClassifier et déplacement sur le périphérique sélectionné (GPU ou CPU).\n",
        "model = BERTClassifier(vocab_size, embed_dim, num_heads, ff_hidden_size, num_layers, num_classes).to(device)\n",
        "\n",
        "# Définition de la fonction de perte CrossEntropy pour la classification et de l'optimiseur Adam.\n",
        "criterion = nn.CrossEntropyLoss()\n",
        "optimizer = optim.Adam(model.parameters(), lr=0.001)"
      ]
    },
    {
      "cell_type": "markdown",
      "source": [
        "# Entraînement et évaluation du modèle\n",
        "\n",
        "Enfin, nous définissons des fonctions de prétraitement des données, une fonction de perte (CrossEntropyLoss), un optimiseur (Adam), ainsi que des fonctions d'entraînement et d'évaluation. Ces fonctions sont utilisées pour entraîner le modèle sur les données d'entraînement et évaluer sa performance sur les données de test."
      ],
      "metadata": {
        "id": "bu-KMdzLQ2Ge"
      }
    },
    {
      "cell_type": "code",
      "execution_count": 5,
      "metadata": {
        "colab": {
          "base_uri": "https://localhost:8080/"
        },
        "id": "kJU4_IyGBvDe",
        "outputId": "cff94ac6-5d3b-41d2-ef30-86e5be8b2216"
      },
      "outputs": [
        {
          "output_type": "stream",
          "name": "stdout",
          "text": [
            "Epoch 1, Train Loss: 0.4249290187701433, Test Loss: 0.043996884397316825, Test Accuracy: 0.8939473684210526\n",
            "Epoch 2, Train Loss: 0.24504690225151923, Test Loss: 0.04088140029958786, Test Accuracy: 0.9078947368421053\n",
            "Epoch 3, Train Loss: 0.1933563622824826, Test Loss: 0.03867199592309541, Test Accuracy: 0.9147368421052632\n",
            "Epoch 4, Train Loss: 0.1557558882748579, Test Loss: 0.04184376310133781, Test Accuracy: 0.9134210526315789\n",
            "Epoch 5, Train Loss: 0.1310835669718252, Test Loss: 0.042738124733468316, Test Accuracy: 0.9118421052631579\n"
          ]
        }
      ],
      "source": [
        "import torch\n",
        "import torch.nn as nn\n",
        "from torch.utils.data import DataLoader\n",
        "from torch.nn.utils.rnn import pad_sequence\n",
        "\n",
        "def collate_batch(batch):\n",
        "    \"\"\"\n",
        "    Prepare a batch for training or evaluation.\n",
        "\n",
        "    Args:\n",
        "    batch (list): A batch of samples from the DataLoader, where each sample is a tuple\n",
        "                  containing the label and the raw text.\n",
        "\n",
        "    Returns:\n",
        "    Tuple[Tensor, Tensor]: The first tensor contains the labels of the batch, and the second tensor\n",
        "                           contains the tokenized and padded texts of the batch, both ready to be\n",
        "                           passed through the model.\n",
        "    \"\"\"\n",
        "    label_list, text_list = [], []\n",
        "\n",
        "    for (_label, _text) in batch:\n",
        "        label_list.append(_label - 1)\n",
        "        processed_text = torch.tensor(tokenize_and_index(_text), dtype=torch.int64)\n",
        "        text_list.append(processed_text)\n",
        "\n",
        "    return torch.tensor(label_list, dtype=torch.int64), pad_sequence(text_list, batch_first=True)\n",
        "\n",
        "def tokenize_and_index(text):\n",
        "    \"\"\"\n",
        "    Tokenize the input text and convert tokens to indices.\n",
        "\n",
        "    Args:\n",
        "    text (str): Raw text to be tokenized and indexed.\n",
        "\n",
        "    Returns:\n",
        "    List[int]: List of token indices representing the input text.\n",
        "    \"\"\"\n",
        "    return vocab(tokenizer(text))\n",
        "\n",
        "def train_model(model, train_loader, test_loader, criterion, optimizer, num_epochs, device):\n",
        "    \"\"\"\n",
        "    Train the LSTM model with the provided data.\n",
        "\n",
        "    Args:\n",
        "    model (torch.nn.Module): The LSTM model to train.\n",
        "    train_loader (DataLoader): Data loader for the training set.\n",
        "    test_loader (DataLoader): Data loader for the test set.\n",
        "    criterion (loss_function): Loss function to use for training.\n",
        "    optimizer (torch.optim): Optimizer to update the model weights.\n",
        "    num_epochs (int): Number of training epochs.\n",
        "    device (torch.device): Device on which the model is run (CPU or GPU).\n",
        "\n",
        "    Returns:\n",
        "    None\n",
        "    \"\"\"\n",
        "    for epoch in range(num_epochs):\n",
        "        model.train()\n",
        "        total_loss = 0\n",
        "        num_batches = 0\n",
        "\n",
        "        for labels, text in train_loader:\n",
        "            num_batches += 1\n",
        "            labels, text = labels.to(device), text.to(device)\n",
        "            optimizer.zero_grad()\n",
        "            output = model(text)\n",
        "            loss = criterion(output, labels)\n",
        "            loss.backward()\n",
        "            optimizer.step()\n",
        "            total_loss += loss.item()\n",
        "\n",
        "        train_loss = total_loss / num_batches\n",
        "        test_loss, test_accuracy = evaluate_model(model, test_loader, criterion, device)\n",
        "        print(f'Epoch {epoch+1}, Train Loss: {train_loss}, Test Loss: {test_loss}, Test Accuracy: {test_accuracy}')\n",
        "\n",
        "def evaluate_model(model, test_loader, criterion, device):\n",
        "    \"\"\"\n",
        "    Evaluate the model on the test set.\n",
        "\n",
        "    Args:\n",
        "    model (torch.nn.Module): The LSTM model to evaluate.\n",
        "    test_loader (DataLoader): Data loader for the test set.\n",
        "    criterion (loss_function): Loss function used for evaluation.\n",
        "    device (torch.device): Device on which the model is run (CPU or GPU).\n",
        "\n",
        "    Returns:\n",
        "    float: Average loss on the test set.\n",
        "    float: Model accuracy on the test set.\n",
        "    \"\"\"\n",
        "    model.eval()\n",
        "    total_loss = 0\n",
        "    correct_preds = 0\n",
        "    total_samples = 0\n",
        "\n",
        "    with torch.no_grad():\n",
        "        for labels, text in test_loader:\n",
        "            labels, text = labels.to(device), text.to(device)\n",
        "            output = model(text)\n",
        "            loss = criterion(output, labels)\n",
        "            total_loss += loss.item()\n",
        "            predictions = output.argmax(1)\n",
        "            correct_preds += (predictions == labels).sum().item()\n",
        "            total_samples += labels.size(0)\n",
        "\n",
        "    return total_loss / total_samples, correct_preds / total_samples\n",
        "\n",
        "# Assuming vocab, tokenizer, and device are defined elsewhere\n",
        "train_loader = DataLoader(train_iter, batch_size=8, shuffle=False, collate_fn=collate_batch)\n",
        "test_loader = DataLoader(test_iter, batch_size=8, shuffle=False, collate_fn=collate_batch)\n",
        "\n",
        "# Assuming model, criterion, optimizer, num_epochs, and device are defined elsewhere\n",
        "num_epochs = 5\n",
        "train_model(model, train_loader, test_loader, criterion, optimizer, num_epochs, device)"
      ]
    },
    {
      "cell_type": "markdown",
      "source": [
        "#Résultats et discussion:\n",
        "\n",
        "Ces résultats d'entraînement et de test fournissent une indication de la performance du modèle de classification de texte BERT-like sur l'ensemble de données AG News.\n",
        "\n",
        "Au cours des cinq époques, nous observons une diminution constante de la perte d'entraînement, passant de 0.42 à 0.13. Cela suggère que le modèle s'améliore progressivement dans sa capacité à prédire correctement les étiquettes des exemples d'entraînement.\n",
        "\n",
        "\n",
        "*   Au cours des cinq époques, nous observons une diminution constante de la perte d'entraînement, passant de 0.42 à 0.13. Cela suggère que le modèle s'améliore progressivement dans sa capacité à prédire correctement les étiquettes des exemples d'entraînement.\n",
        "*   Pour la perte de test, nous constatons une diminution générale de 0.044 à 0.043 sur les cinq époques, indiquant une certaine stabilité dans la performance du modèle sur des données qu'il n'a pas vues auparavant.\n",
        "*   En ce qui concerne la précision du test, nous constatons une augmentation initiale de 0.894 à 0.912 au cours des deux premières époques, ce qui suggère une amélioration notable de la capacité du modèle à généraliser sur de nouvelles données. Cependant, cette précision semble se stabiliser autour de 0.913-0.914 par la suite.\n",
        "\n",
        "\n",
        "Globalement, ces résultats indiquent que le modèle BERT-like a été capable d'apprendre à bien généraliser à partir de l'ensemble de données d'entraînement vers l'ensemble de données de test, atteignant une précision de classification d'environ 91%. Cependant, il semble y avoir une légère tendance à la surajustement, comme en témoigne la légère augmentation de la perte de test après la troisième époque. Ce résultat pourrait nécessiter une exploration plus approfondie pour améliorer la capacité du modèle à généraliser davantage."
      ],
      "metadata": {
        "id": "3wnoLbVBRJHJ"
      }
    }
  ],
  "metadata": {
    "accelerator": "GPU",
    "colab": {
      "gpuType": "T4",
      "provenance": []
    },
    "kaggle": {
      "accelerator": "nvidiaTeslaT4",
      "dataSources": [],
      "dockerImageVersionId": 30665,
      "isGpuEnabled": true,
      "isInternetEnabled": true,
      "language": "python",
      "sourceType": "notebook"
    },
    "kernelspec": {
      "display_name": "Python 3",
      "name": "python3"
    },
    "language_info": {
      "codemirror_mode": {
        "name": "ipython",
        "version": 3
      },
      "file_extension": ".py",
      "mimetype": "text/x-python",
      "name": "python",
      "nbconvert_exporter": "python",
      "pygments_lexer": "ipython3",
      "version": "3.10.13"
    }
  },
  "nbformat": 4,
  "nbformat_minor": 0
}